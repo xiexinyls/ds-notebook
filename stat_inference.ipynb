{
 "cells": [
  {
   "cell_type": "markdown",
   "metadata": {},
   "source": [
    "$\n",
    "\\def\\Cov{\\mathrm{Cov} }\n",
    "\\def\\Var {\\mathrm{Var} }\n",
    "\\def\\diff{\\mathrm{d} }\n",
    "\\def\\Diff{\\mathrm{D} }\n",
    "\\def\\ln{\\mathrm{ln} }\n",
    "\\def\\pt{\\partial }\n",
    "\\def\\E{\\mathrm{E}}\n",
    "$\n",
    "\n",
    "# Determine Sample Size\n",
    "\n",
    "Generally speaking, small sample size may produce large uncertainty of parameter estimation. For iid with true mean $\\mu$ and true variance $\\sigma$, the sample mean $\\bar{X}$ will have a sampling distribution similar to normal distribution with mean=$\\mu$ and variance=$\\sigma^2 / n$. The standard deviation of this sampling distribution of sample mean or **standard error** is $\\sigma / \\sqrt{n}$ (sampling with replacement). Therefore, we have\n",
    "$$ \\frac{\\bar{X}-\\mu}{\\sigma/\\sqrt{n}} \\sim N(0,1) $$\n",
    "\n",
    "However, we don't know true $\\mu$ and true $\\sigma$. Therefore, we need to estimate them.\n",
    "\n",
    "With point estiamtion. We have point estimation for the $\\mu$ $$\\hat \\mu=(X_1+X_2+\\cdots +X_n)/n$$. For variance , $$ \\hat{\\sigma^2 }=SE^{2}=\\frac{1}{n-1}\\sum_{i=1}^{n}(X_{i}-\\bar{X})^{2} $$. Plugging in the obsevation $x$ to replace $X$ gives you the actual estiamte. So now the the sampling distribution with estimated parameter becomes\n",
    "$$ N( \\hat \\mu, \\frac{\\hat{\\sigma^2}}{n} ) $$\n",
    "\n",
    "This formula works when $n$ is large enough. When $n$ is small, the sampling distribution of the following form\n",
    "$$  $$\n"
   ]
  }
 ],
 "metadata": {
  "kernelspec": {
   "display_name": "Python 2",
   "language": "python",
   "name": "python2"
  },
  "language_info": {
   "codemirror_mode": {
    "name": "ipython",
    "version": 2
   },
   "file_extension": ".py",
   "mimetype": "text/x-python",
   "name": "python",
   "nbconvert_exporter": "python",
   "pygments_lexer": "ipython2",
   "version": "2.7.13"
  }
 },
 "nbformat": 4,
 "nbformat_minor": 2
}
