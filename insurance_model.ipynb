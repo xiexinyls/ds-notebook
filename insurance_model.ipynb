{
 "cells": [
  {
   "cell_type": "markdown",
   "metadata": {},
   "source": [
    "# Notes from GLM Book\n",
    "\n",
    "## Predictor Variable\n",
    "\n",
    "### Categorical Variable\n",
    "\n",
    "If a predictor variable is categorical with more than two levels, most modeling system will encode this multi-level categorical variable into several 0/1 binary categorical variables again. It will first choose a base level and create new variables as many as the number of rest level is. The base level will have all zero over all these newly created variables while the other variables will assigned 1 at the given level with all the other variables assigned 0.\n",
    "\n",
    "For example, we have three levels categorical variable weight: \"light\", \"mid\", and \"heavy\". If we choose to use \"light\" as base level, the system will create two new variable `var:mid` and `var:heavy`. An observation of \"light\" will be encoded as `0 0` for `var:mid` and `var:heavy`. An observation of \"mid\" will be encoded as `1 0` for `var:mid` and `var:heavy`. An observation of \"heavy\" will be encoded as `0 1` for `var:mid` and `var:heavy`.\n",
    "\n",
    "## Data Cleaning\n",
    "\n",
    "1. **Choose Target Variables** Frequency, severity, and pure premium. We can model frequency and severity individually and then use their result to derive premium (their multiplication). This is a better way because we get more insights from frequency and severity information.\n",
    "2. **Building Model for different type** Model of different type (different coverage or peril) may have different model parameter. Therefore we may want to build different model for different type.\n",
    "3. **Tuning Target Variable** We may want to remove outliers before we do modeling, such as a few very large loss, catastrophic loss. If the data are over multiple years, we want to remove the trend.\n",
    "4. **Target Variable Distribution** For GLM, we need to choose distribution for the target variable. Frequency (Poisson, negative binomial, or binomial). Severity (Gamma or Gaussian).\n",
    "5. **What Predictor to Use** Usually adopts the current rating plan information. If additional variables are to be used, consider the cost to put them info the system. Automation variable selection algorithm may exist to do that for us.\n",
    "6. **Transform Target Variable** Sometimes, both target and predictor variables are transformed before they are used in modeling. This may increase the linear relationship between target and predictor.\n",
    "7. Check **correlation** among predictors. Correlation among predictors may introduce unstable solution to the regression coefficients. Slight change of data will give totally different regression coefficients. Remove correlated variables and use PCA techinques to reduce redundant dimension. Also check possible **multicolinearity**, and **aliasing**. Multicolinearity may exist when correlation matrix shows no significant correlation while the combination of the predictors have strong relationship. A possible technique to detect multicolinearity is to calculate **variance inflation factor**. (VIF>10 is too high).**Aliasing** happens when two predictors are perfectly correlated.\n",
    "8. "
   ]
  }
 ],
 "metadata": {
  "kernelspec": {
   "display_name": "Python 2",
   "language": "python",
   "name": "python2"
  },
  "language_info": {
   "codemirror_mode": {
    "name": "ipython",
    "version": 2
   },
   "file_extension": ".py",
   "mimetype": "text/x-python",
   "name": "python",
   "nbconvert_exporter": "python",
   "pygments_lexer": "ipython2",
   "version": "2.7.11"
  }
 },
 "nbformat": 4,
 "nbformat_minor": 0
}
