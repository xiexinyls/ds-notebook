{
 "cells": [
  {
   "cell_type": "markdown",
   "metadata": {},
   "source": [
    "# Expectation-Maximization Algorithm\n",
    "\n",
    "For a lot of parameter estimation problem, we want to maximize the data likelihood function\n",
    "$$ \\ln P(\\mathbf{X}_{D}=\\mathbf{x}_{D}|w)=\\ln P(X_{1}^{1}=x_1^1,\\cdots,X_{d}^{1}=x_d^1,\\cdots,X_{1}^{n}=x_1^n,\\cdots,X_{d}^{n}=x_d^n|w) $$\n",
    "to get the optimal parameters $ w $. However, sometimes we don't have fully observed data. Let us mark the  observed variables $ Y=(Y_{1},Y_{2},\\cdots,Y_{mo}) $ and unobserved variables $ Z=(Z_{1},Z_{2},\\cdots,Z_{mu}) $. That is $ \\mathbf{X}_{D}=(Y,Z) $\n",
    "$$\n",
    "\\begin{align*}\n",
    "\\ln P(\\mathbf{X}_{D}|w) & =\\ln P(X_{1}^{1},X_{2}^{1},\\cdots,X_{d}^{1},\\cdots,X_{1}^{n},X_{2}^{n},\\cdots,X_{d}^{n}|w)\\\\\n",
    " & =\\ln P(Y,Z|w)\n",
    "\\end{align*}\n",
    "$$\n",
    "Again this likelihood function can not be used to maximize because $ Z $ is not observed. One solution is to represent this by marginalizing along all $ Z $\n",
    "$$\n",
    "\\begin{align*}\n",
    "\\ln P(Y|w) & =\\ln\\sum_{Z}P(Y,Z|w)\n",
    "\\end{align*}\n",
    "$$\n",
    ", where $\\sum_{Z}$ means keeping the observed part $Y$ while summing all the possible states of $Z$. Maximizing this likelihood function directly would be not easy for a lot of cases. But note that\n",
    "$$\n",
    "\\begin{align*}\n",
    "\\ln P(Y|w) & =\\ln\\sum_{Z}P(Y,Z|w)\\\\\n",
    " & =\\ln\\sum_{Z}Q(Z|Y,w)\\frac{P(Y,Z|w)}{Q(Z|Y,w)}\\\\\n",
    " & \\ge\\sum_{Z}Q(Z|Y,w)\\ln\\frac{P(Y,Z|w)}{Q(Z|Y,w)}\n",
    "\\end{align*}\n",
    "$$\n",
    ", according to Jenson's inequality if we have $ Q(Z)>0 $ and $ \\sum_{Z}Q(Z)=1 $. By definition, $ Q $ could be any distribution function of $ Z $. However, we may choose $ Q(Z|Y,w)=P(Z|Y,w^{t-1}) $, where $ w^{t-1} $ is the parameter estimated from the previous step and $ P(Z|Y,w^{t-1}) $ is exactly the probability distribution we assume, which has the properties $ Q(Z|Y,w^{t-1})>0 $ and $ \\sum_{Z}Q(Z|Y,w^{t-1})=1 $ by nature. Also note that\n",
    "$$\n",
    "\\begin{align*}\n",
    "\\sum_{Z}P(Z|Y,w^{t-1})\\ln\\frac{P(Y,Z|w)}{P(Z|Y,w^{t-1})} & = \\sum_{Z}P(Z|Y,w^{t-1})[ \\ln P(Y,Z|w) - \\ln P(Z|Y,w^{t-1}) ] \\\\\n",
    " & = \\sum_{Z}P(Z|Y,w^{t-1})\\ln P(Y,Z|w) - \\sum_{Z} P(Z|Y,w^{t-1}) \\ln P(Z|Y,w^{t-1})\n",
    "\\end{align*}\n",
    "$$\n",
    ", where the second term $ \\sum_{Z} P(Z|Y,w^{t-1}) \\ln P(Z|Y,w^{t-1}) $ is a constant. So all we have to do is maximizing the first term after plugging in our observation $ y $\n",
    "$$\n",
    "\\sum_{Z}P(Z|Y=y,w^{t-1})\\ln P(Y=y,Z|w)=E_Z[P(Y=y,Z|w)|w^{t-1}]\n",
    "$$\n",
    "where the notation of the right hand side is a little weird. It actually means taking the expectation of $ P(Y=y,Z|w) $ over all $ Z $ but when we do the summing or expecation integration, we use the known parameter $ w^{t-1} $ in the probability formula rather than the unknown parameter $ w $. We call this step **expectation step** or **E step**.\n",
    "\n",
    "The next step is to do the maximization for\n",
    "$$ \\sum_{Z}P(Z|Y=y,w^{t-1})\\ln P(Y=y,Z|w) $$\n",
    ". We usually assume some form of $ P(Y=y,Z=z|w)=p(y,z|w) $ so this part has no problem. For $ P(Z|Y=y,w^{t-1}) $, we can use the Bayesian rule\n",
    "$$\n",
    "\\begin{align*}\n",
    "P(Z|Y=y,w^{t-1}) & =\\frac{P(Z,Y=y|w^{t-1})}{P(Y=y,w^{t-1})} \\\\\n",
    "& = \\frac{ P(Z,Y=y|w^{t-1}) }{ \\sum_{z^{\\prime}}P(Z=z^{\\prime},Y=y,w^{t-1}) } \\\\\n",
    "\\end{align*}\n",
    "$$\n",
    ". So the final thing we need to maximize becomes\n",
    "$$\n",
    "M = \\sum_{Z}\\frac{ P(Z,Y=y|w^{t-1}) }{ \\sum_{z^{\\prime}}P(Z=z^{\\prime},Y=y,w^{t-1}) } \\ln P(Y=y,Z|w)\n",
    "$$\n",
    ". This step is usually called **M step**. Setting its derivative with $ w $ to zero, we can get the $w$ updating equation. Make a first guess of the parameter $w$ and use this equation iteratively will give us the local maximum of $M$."
   ]
  },
  {
   "cell_type": "code",
   "execution_count": null,
   "metadata": {
    "collapsed": true
   },
   "outputs": [],
   "source": []
  }
 ],
 "metadata": {
  "kernelspec": {
   "display_name": "Python 2",
   "language": "python",
   "name": "python2"
  },
  "language_info": {
   "codemirror_mode": {
    "name": "ipython",
    "version": 2
   },
   "file_extension": ".py",
   "mimetype": "text/x-python",
   "name": "python",
   "nbconvert_exporter": "python",
   "pygments_lexer": "ipython2",
   "version": "2.7.11"
  }
 },
 "nbformat": 4,
 "nbformat_minor": 0
}
