{
 "cells": [
  {
   "cell_type": "markdown",
   "metadata": {},
   "source": [
    "Befoe you go through this material, I assume you already have basic idea about probability, random variable, its expectation and variance. Here we use lower letter \n",
    "\n",
    "# Univariate Regression\n",
    "\n",
    "When we have data $y_1,y_2,\\cdots,y_n$ and $x_1,x_2,\\cdots,x_n$, we want to build a model so that we can calculate $y$ given $x$.\n",
    "\n",
    "Regression models can be derived in so many ways but the basic model is usually like\n",
    "$$ Y=\\beta_0+\\beta_1 X+\\varepsilon $$\n",
    "where $X$ and $\\varepsilon$ are both random variables and $\\varepsilon \\sim N(0,\\sigma)$. We don't assume a particular distribution for $X$. It depends on the actual distribution of the data of $X$ we want to build regression on.\n",
    "\n",
    "We want to add constrains to this basic regression model so that the parameters $\\beta_0$ and $\\beta_1$ can be solved in a way we want. There are many ways we can add constrains to it but they are equivalent so they result in the same final solution.\n",
    "\n",
    "Since all data are realization of distribution, they should have the same model form. Therefore, we have\n",
    "$$\n",
    "\\begin{align}\n",
    "Y_1&=\\beta_0+\\beta_1 X_1+\\varepsilon \\\\\n",
    "Y_2&=\\beta_0+\\beta_1 X_2+\\varepsilon \\\\\n",
    "& \\cdots \\\\\n",
    "Y_n&=\\beta_0+\\beta_1 X_n+\\varepsilon\n",
    "\\end{align}\n",
    "$$\n",
    "\n",
    "## Independence Way\n",
    "\n",
    "If we take expectation of both sides of the above equations, we have\n",
    "$$\n",
    "\\begin{align}\n",
    "E(Y_1)&=\\beta_0+\\beta_1 E(X_1) \\\\\n",
    "E(Y_2)&=\\beta_0+\\beta_1 E(X_2) \\\\\n",
    "& \\cdots \\\\\n",
    "E(Y_n)&=\\beta_0+\\beta_1 E(X_n)\n",
    "\\end{align}\n",
    "$$\n",
    "\n",
    "We don't know the real expection of $Y$ and $X$ yet so at first glance, the above equation gives us nothing to form an equation for parameters $\\beta_0$ and $\\beta_1$. However, we may use the mean of data to estimate the expectation of $Y$ and $X$. So\n",
    "\n",
    "$$E(Y) \\approx \\frac{y_1+y_2+\\cdots+y_n}{n}$$\n",
    "\n",
    "$$E(\\frac{Y_1+Y_2+\\cdots+Y_n}{n})$$\n",
    "\n",
    "We assume the distribution of $X$ is independent of $\\varepsilon$. So we have their covariance being zero\n",
    "$$ \\textrm{Cov}(X,\\varepsilon)=0 $$\n",
    "\n",
    "Since we have this statistical representation, we can derive it in various ways.\n",
    "\n",
    "## Ordinary Least Square Way\n"
   ]
  },
  {
   "cell_type": "markdown",
   "metadata": {},
   "source": [
    "In this notebook, I would like to introduce Regression Basics. We will first import some necessary Python modules."
   ]
  },
  {
   "cell_type": "code",
   "execution_count": 8,
   "metadata": {
    "collapsed": false
   },
   "outputs": [],
   "source": [
    "import pandas as pd\n",
    "import matplotlib.pyplot as plt\n",
    "%matplotlib inline"
   ]
  },
  {
   "cell_type": "markdown",
   "metadata": {},
   "source": [
    "We then load in some example car dataset and take a look at the data we want to do regression for."
   ]
  },
  {
   "cell_type": "code",
   "execution_count": 9,
   "metadata": {
    "collapsed": false
   },
   "outputs": [
    {
     "data": {
      "text/plain": [
       "<matplotlib.text.Text at 0x10aaacfd0>"
      ]
     },
     "execution_count": 9,
     "metadata": {},
     "output_type": "execute_result"
    },
    {
     "data": {
      "image/png": "[encoded data removed]",
      "text/plain": [
       "<matplotlib.figure.Figure at 0x10a7dbbd0>"
      ]
     },
     "metadata": {},
     "output_type": "display_data"
    }
   ],
   "source": [
    "import pydataset as pds\n",
    "\n",
    "car = pds.data('cars')\n",
    "\n",
    "plt.plot( car['speed'], car['dist'], 'k.')\n",
    "plt.xlabel('Speed')\n",
    "plt.ylabel('Distance')"
   ]
  },
  {
   "cell_type": "code",
   "execution_count": null,
   "metadata": {
    "collapsed": true
   },
   "outputs": [],
   "source": []
  }
 ],
 "metadata": {
  "kernelspec": {
   "display_name": "Python [Root]",
   "language": "python",
   "name": "Python [Root]"
  },
  "language_info": {
   "codemirror_mode": {
    "name": "ipython",
    "version": 2
   },
   "file_extension": ".py",
   "mimetype": "text/x-python",
   "name": "python",
   "nbconvert_exporter": "python",
   "pygments_lexer": "ipython2",
   "version": "2.7.12"
  }
 },
 "nbformat": 4,
 "nbformat_minor": 0
}
